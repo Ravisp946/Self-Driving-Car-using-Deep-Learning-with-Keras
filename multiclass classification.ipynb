{
 "cells": [
  {
   "cell_type": "code",
   "execution_count": 10,
   "metadata": {},
   "outputs": [],
   "source": [
    "import numpy as np\n",
    "import matplotlib.pyplot as plt\n",
    "from sklearn import datasets\n",
    "from keras.layers import Dense\n",
    "from keras.models import Sequential\n",
    "from keras.optimizers import Adam\n",
    "from keras.utils.np_utils import to_categorical"
   ]
  },
  {
   "cell_type": "code",
   "execution_count": 11,
   "metadata": {},
   "outputs": [
    {
     "data": {
      "text/plain": [
       "<matplotlib.collections.PathCollection at 0x1d99610ee48>"
      ]
     },
     "execution_count": 11,
     "metadata": {},
     "output_type": "execute_result"
    },
    {
     "data": {
      "image/png": "[encoded data removed]",
      "text/plain": [
       "<Figure size 432x288 with 1 Axes>"
      ]
     },
     "metadata": {},
     "output_type": "display_data"
    }
   ],
   "source": [
    "n_pts=500\n",
    "centers=[[-1,1],[-1,-1],[1,-1],[1,1],[2,2]]\n",
    "X,y=datasets.make_blobs(n_samples=n_pts,random_state=123,centers=centers,cluster_std=0.4)\n",
    "# print(X)\n",
    "# print(y)\n",
    "plt.scatter(X[y==0,0],X[y==0,1])\n",
    "plt.scatter(X[y==1,0],X[y==1,1])\n",
    "plt.scatter(X[y==2,0],X[y==2,1])\n",
    "plt.scatter(X[y==3,0],X[y==3,1])\n",
    "plt.scatter(X[y==4,0],X[y==4,1])"
   ]
  },
  {
   "cell_type": "code",
   "execution_count": 12,
   "metadata": {},
   "outputs": [
    {
     "name": "stdout",
     "output_type": "stream",
     "text": [
      "[3 3 4 0 2 1 1 4 4 4 3 2 1 0 2 4 4 4 3 0 3 0 3 4 1 3 1 0 4 2 3 1 0 4 1 0 4\n",
      " 0 4 0 1 3 3 0 3 1 3 4 0 4 0 2 3 0 2 4 4 0 3 4 1 3 0 4 2 1 1 2 3 2 3 2 1 1\n",
      " 3 2 4 2 2 3 0 2 4 3 2 1 3 3 3 3 1 1 4 2 4 4 1 2 4 1 4 2 2 3 4 1 1 3 3 2 1\n",
      " 3 1 0 1 0 4 4 4 3 1 3 3 3 1 4 4 0 2 0 1 1 0 4 0 1 1 4 4 0 4 3 4 4 2 4 0 0\n",
      " 0 4 2 0 4 1 0 2 2 1 3 0 1 2 2 4 4 1 3 2 3 3 3 2 2 2 4 0 1 1 0 1 4 4 3 2 3\n",
      " 2 3 1 0 3 4 2 1 0 0 0 4 3 0 4 2 2 3 1 0 4 4 1 2 1 3 1 4 4 0 1 4 2 4 0 4 0\n",
      " 1 2 3 0 1 0 3 3 4 3 4 0 0 1 1 3 0 4 1 4 2 1 2 4 4 3 3 1 1 1 4 1 1 1 4 3 1\n",
      " 0 0 2 2 2 3 2 3 4 2 3 3 1 1 0 4 0 3 0 0 0 3 2 2 1 4 2 0 0 2 2 1 3 3 1 3 0\n",
      " 0 1 4 2 2 2 1 0 0 1 0 0 1 2 4 2 4 2 1 3 0 0 1 4 1 2 4 4 4 3 4 1 2 3 1 3 1\n",
      " 0 0 2 4 1 3 1 1 2 1 4 3 1 2 3 2 0 4 1 4 0 2 2 0 1 2 2 4 4 0 4 1 3 3 2 2 0\n",
      " 4 3 3 1 2 2 4 3 0 3 3 3 3 0 1 4 4 4 0 3 3 2 4 0 4 0 0 4 2 2 2 3 0 2 0 0 1\n",
      " 2 3 0 0 2 4 2 3 0 3 0 1 0 4 1 0 0 1 3 1 4 0 2 1 1 3 2 3 2 2 2 3 1 0 0 0 1\n",
      " 3 4 2 1 0 2 1 4 3 3 4 0 0 2 2 0 0 2 2 3 4 3 2 2 2 2 0 1 3 0 2 1 2 0 2 3 4\n",
      " 3 1 4 3 3 0 2 4 0 4 1 3 2 1 3 0 1 2 1]\n",
      "[[0. 0. 0. 1. 0.]\n",
      " [0. 0. 0. 1. 0.]\n",
      " [0. 0. 0. 0. 1.]\n",
      " ...\n",
      " [0. 1. 0. 0. 0.]\n",
      " [0. 0. 1. 0. 0.]\n",
      " [0. 1. 0. 0. 0.]]\n"
     ]
    }
   ],
   "source": [
    "print(y)\n",
    "y_cat=to_categorical(y,5)\n",
    "print(y_cat)"
   ]
  },
  {
   "cell_type": "code",
   "execution_count": 13,
   "metadata": {},
   "outputs": [],
   "source": [
    "model=Sequential()\n",
    "model.add(Dense(5,input_shape=(2,),activation='softmax'))\n",
    "model.compile(Adam(lr=0.1),loss='categorical_crossentropy',metrics=['accuracy'])\n"
   ]
  },
  {
   "cell_type": "code",
   "execution_count": 14,
   "metadata": {},
   "outputs": [
    {
     "name": "stdout",
     "output_type": "stream",
     "text": [
      "Epoch 1/100\n",
      "500/500 [==============================] - 1s 1ms/step - loss: 0.8251 - acc: 0.7520\n",
      "Epoch 2/100\n",
      "500/500 [==============================] - 0s 181us/step - loss: 0.3815 - acc: 0.9300\n",
      "Epoch 3/100\n",
      "500/500 [==============================] - 0s 181us/step - loss: 0.2722 - acc: 0.9480\n",
      "Epoch 4/100\n",
      "500/500 [==============================] - 0s 309us/step - loss: 0.2228 - acc: 0.9620\n",
      "Epoch 5/100\n",
      "500/500 [==============================] - 0s 254us/step - loss: 0.1941 - acc: 0.9660\n",
      "Epoch 6/100\n",
      "500/500 [==============================] - 0s 195us/step - loss: 0.1782 - acc: 0.9680\n",
      "Epoch 7/100\n",
      "500/500 [==============================] - 0s 217us/step - loss: 0.1659 - acc: 0.9640\n",
      "Epoch 8/100\n",
      "500/500 [==============================] - 0s 392us/step - loss: 0.1581 - acc: 0.9680\n",
      "Epoch 9/100\n",
      "500/500 [==============================] - 0s 565us/step - loss: 0.1482 - acc: 0.9700\n",
      "Epoch 10/100\n",
      "500/500 [==============================] - 0s 283us/step - loss: 0.1416 - acc: 0.9680\n",
      "Epoch 11/100\n",
      "500/500 [==============================] - 0s 227us/step - loss: 0.1342 - acc: 0.9720\n",
      "Epoch 12/100\n",
      "500/500 [==============================] - 0s 200us/step - loss: 0.1300 - acc: 0.9680\n",
      "Epoch 13/100\n",
      "500/500 [==============================] - 0s 218us/step - loss: 0.1262 - acc: 0.9720\n",
      "Epoch 14/100\n",
      "500/500 [==============================] - 0s 282us/step - loss: 0.1217 - acc: 0.9700\n",
      "Epoch 15/100\n",
      "500/500 [==============================] - 0s 195us/step - loss: 0.1186 - acc: 0.9720\n",
      "Epoch 16/100\n",
      "500/500 [==============================] - 0s 333us/step - loss: 0.1159 - acc: 0.9720\n",
      "Epoch 17/100\n",
      "500/500 [==============================] - 0s 247us/step - loss: 0.1137 - acc: 0.9700\n",
      "Epoch 18/100\n",
      "500/500 [==============================] - 0s 239us/step - loss: 0.1105 - acc: 0.9720\n",
      "Epoch 19/100\n",
      "500/500 [==============================] - 0s 225us/step - loss: 0.1084 - acc: 0.9720\n",
      "Epoch 20/100\n",
      "500/500 [==============================] - 0s 231us/step - loss: 0.1056 - acc: 0.9700\n",
      "Epoch 21/100\n",
      "500/500 [==============================] - 0s 240us/step - loss: 0.1050 - acc: 0.9720\n",
      "Epoch 22/100\n",
      "500/500 [==============================] - 0s 226us/step - loss: 0.1034 - acc: 0.9700 0s - loss: 0.0972 - acc: 0.970\n",
      "Epoch 23/100\n",
      "500/500 [==============================] - 0s 217us/step - loss: 0.1007 - acc: 0.9720\n",
      "Epoch 24/100\n",
      "500/500 [==============================] - 0s 215us/step - loss: 0.0991 - acc: 0.9720 0s - loss: 0.1008 - acc: 0.968\n",
      "Epoch 25/100\n",
      "500/500 [==============================] - 0s 207us/step - loss: 0.0976 - acc: 0.9700\n",
      "Epoch 26/100\n",
      "500/500 [==============================] - 0s 205us/step - loss: 0.0961 - acc: 0.9720\n",
      "Epoch 27/100\n",
      "500/500 [==============================] - 0s 197us/step - loss: 0.0955 - acc: 0.9720\n",
      "Epoch 28/100\n",
      "500/500 [==============================] - 0s 199us/step - loss: 0.0937 - acc: 0.9720\n",
      "Epoch 29/100\n",
      "500/500 [==============================] - 0s 233us/step - loss: 0.0931 - acc: 0.9720\n",
      "Epoch 30/100\n",
      "500/500 [==============================] - 0s 187us/step - loss: 0.0917 - acc: 0.9700\n",
      "Epoch 31/100\n",
      "500/500 [==============================] - 0s 292us/step - loss: 0.0948 - acc: 0.9740\n",
      "Epoch 32/100\n",
      "500/500 [==============================] - 0s 180us/step - loss: 0.0910 - acc: 0.9700\n",
      "Epoch 33/100\n",
      "500/500 [==============================] - 0s 201us/step - loss: 0.0891 - acc: 0.9720\n",
      "Epoch 34/100\n",
      "500/500 [==============================] - 0s 185us/step - loss: 0.0898 - acc: 0.9740\n",
      "Epoch 35/100\n",
      "500/500 [==============================] - 0s 218us/step - loss: 0.0871 - acc: 0.9720\n",
      "Epoch 36/100\n",
      "500/500 [==============================] - 0s 185us/step - loss: 0.0866 - acc: 0.9700\n",
      "Epoch 37/100\n",
      "500/500 [==============================] - 0s 142us/step - loss: 0.0880 - acc: 0.9740\n",
      "Epoch 38/100\n",
      "500/500 [==============================] - 0s 189us/step - loss: 0.0875 - acc: 0.9720\n",
      "Epoch 39/100\n",
      "500/500 [==============================] - 0s 191us/step - loss: 0.0859 - acc: 0.9780\n",
      "Epoch 40/100\n",
      "500/500 [==============================] - 0s 191us/step - loss: 0.0837 - acc: 0.9760\n",
      "Epoch 41/100\n",
      "500/500 [==============================] - 0s 193us/step - loss: 0.0833 - acc: 0.9700\n",
      "Epoch 42/100\n",
      "500/500 [==============================] - 0s 197us/step - loss: 0.0835 - acc: 0.9780\n",
      "Epoch 43/100\n",
      "500/500 [==============================] - 0s 176us/step - loss: 0.0811 - acc: 0.9740\n",
      "Epoch 44/100\n",
      "500/500 [==============================] - 0s 172us/step - loss: 0.0837 - acc: 0.9740\n",
      "Epoch 45/100\n",
      "500/500 [==============================] - 0s 180us/step - loss: 0.0824 - acc: 0.9740\n",
      "Epoch 46/100\n",
      "500/500 [==============================] - 0s 156us/step - loss: 0.0808 - acc: 0.9760\n",
      "Epoch 47/100\n",
      "500/500 [==============================] - 0s 162us/step - loss: 0.0805 - acc: 0.9760\n",
      "Epoch 48/100\n",
      "500/500 [==============================] - 0s 154us/step - loss: 0.0809 - acc: 0.9760\n",
      "Epoch 49/100\n",
      "500/500 [==============================] - 0s 170us/step - loss: 0.0799 - acc: 0.9760\n",
      "Epoch 50/100\n",
      "500/500 [==============================] - ETA: 0s - loss: 0.0812 - acc: 0.968 - 0s 184us/step - loss: 0.0809 - acc: 0.9720\n",
      "Epoch 51/100\n",
      "500/500 [==============================] - 0s 164us/step - loss: 0.0817 - acc: 0.9720\n",
      "Epoch 52/100\n",
      "500/500 [==============================] - 0s 221us/step - loss: 0.0823 - acc: 0.9760\n",
      "Epoch 53/100\n",
      "500/500 [==============================] - 0s 215us/step - loss: 0.0807 - acc: 0.9740\n",
      "Epoch 54/100\n",
      "500/500 [==============================] - 0s 180us/step - loss: 0.0790 - acc: 0.9740\n",
      "Epoch 55/100\n",
      "500/500 [==============================] - 0s 158us/step - loss: 0.0781 - acc: 0.9740\n",
      "Epoch 56/100\n",
      "500/500 [==============================] - 0s 164us/step - loss: 0.0779 - acc: 0.9720\n",
      "Epoch 57/100\n",
      "500/500 [==============================] - 0s 154us/step - loss: 0.0788 - acc: 0.9760\n",
      "Epoch 58/100\n",
      "500/500 [==============================] - 0s 207us/step - loss: 0.0773 - acc: 0.9740\n",
      "Epoch 59/100\n",
      "500/500 [==============================] - 0s 174us/step - loss: 0.0771 - acc: 0.9720\n",
      "Epoch 60/100\n",
      "500/500 [==============================] - 0s 203us/step - loss: 0.0784 - acc: 0.9740\n",
      "Epoch 61/100\n",
      "500/500 [==============================] - 0s 182us/step - loss: 0.0779 - acc: 0.9720\n",
      "Epoch 62/100\n",
      "500/500 [==============================] - 0s 178us/step - loss: 0.0761 - acc: 0.9740\n",
      "Epoch 63/100\n",
      "500/500 [==============================] - 0s 176us/step - loss: 0.0762 - acc: 0.9720\n",
      "Epoch 64/100\n",
      "500/500 [==============================] - 0s 184us/step - loss: 0.0779 - acc: 0.9740\n",
      "Epoch 65/100\n",
      "500/500 [==============================] - 0s 166us/step - loss: 0.0772 - acc: 0.9720\n",
      "Epoch 66/100\n",
      "500/500 [==============================] - 0s 223us/step - loss: 0.0745 - acc: 0.9740\n",
      "Epoch 67/100\n",
      "500/500 [==============================] - 0s 191us/step - loss: 0.0750 - acc: 0.9720\n",
      "Epoch 68/100\n",
      "500/500 [==============================] - 0s 160us/step - loss: 0.0765 - acc: 0.9700\n",
      "Epoch 69/100\n",
      "500/500 [==============================] - 0s 160us/step - loss: 0.0743 - acc: 0.9720\n",
      "Epoch 70/100\n",
      "500/500 [==============================] - 0s 187us/step - loss: 0.0753 - acc: 0.9740\n",
      "Epoch 71/100\n",
      "500/500 [==============================] - 0s 166us/step - loss: 0.0762 - acc: 0.9740\n",
      "Epoch 72/100\n",
      "500/500 [==============================] - 0s 160us/step - loss: 0.0781 - acc: 0.9700\n",
      "Epoch 73/100\n",
      "500/500 [==============================] - 0s 166us/step - loss: 0.0761 - acc: 0.9720\n",
      "Epoch 74/100\n",
      "500/500 [==============================] - 0s 172us/step - loss: 0.0767 - acc: 0.9720\n",
      "Epoch 75/100\n",
      "500/500 [==============================] - 0s 217us/step - loss: 0.0739 - acc: 0.9720\n",
      "Epoch 76/100\n",
      "500/500 [==============================] - 0s 197us/step - loss: 0.0744 - acc: 0.9720\n",
      "Epoch 77/100\n",
      "500/500 [==============================] - 0s 199us/step - loss: 0.0731 - acc: 0.9740\n",
      "Epoch 78/100\n",
      "500/500 [==============================] - 0s 144us/step - loss: 0.0749 - acc: 0.9720\n",
      "Epoch 79/100\n",
      "500/500 [==============================] - 0s 187us/step - loss: 0.0728 - acc: 0.9740\n",
      "Epoch 80/100\n",
      "500/500 [==============================] - 0s 126us/step - loss: 0.0733 - acc: 0.9760\n",
      "Epoch 81/100\n",
      "500/500 [==============================] - 0s 160us/step - loss: 0.0744 - acc: 0.9720\n",
      "Epoch 82/100\n",
      "500/500 [==============================] - 0s 162us/step - loss: 0.0756 - acc: 0.9740\n",
      "Epoch 83/100\n",
      "500/500 [==============================] - 0s 153us/step - loss: 0.0768 - acc: 0.9720\n",
      "Epoch 84/100\n",
      "500/500 [==============================] - 0s 293us/step - loss: 0.0711 - acc: 0.9720\n",
      "Epoch 85/100\n",
      "500/500 [==============================] - 0s 191us/step - loss: 0.0781 - acc: 0.9720\n",
      "Epoch 86/100\n",
      "500/500 [==============================] - 0s 317us/step - loss: 0.0747 - acc: 0.9740\n",
      "Epoch 87/100\n",
      "500/500 [==============================] - 0s 315us/step - loss: 0.0717 - acc: 0.9720\n",
      "Epoch 88/100\n",
      "500/500 [==============================] - 0s 199us/step - loss: 0.0728 - acc: 0.9740\n",
      "Epoch 89/100\n",
      "500/500 [==============================] - 0s 187us/step - loss: 0.0747 - acc: 0.9740\n",
      "Epoch 90/100\n",
      "500/500 [==============================] - 0s 190us/step - loss: 0.0766 - acc: 0.9720\n",
      "Epoch 91/100\n",
      "500/500 [==============================] - 0s 217us/step - loss: 0.0722 - acc: 0.9760\n",
      "Epoch 92/100\n",
      "500/500 [==============================] - 0s 176us/step - loss: 0.0719 - acc: 0.9700\n",
      "Epoch 93/100\n",
      "500/500 [==============================] - 0s 213us/step - loss: 0.0731 - acc: 0.9740\n",
      "Epoch 94/100\n",
      "500/500 [==============================] - 0s 184us/step - loss: 0.0741 - acc: 0.9740\n",
      "Epoch 95/100\n",
      "500/500 [==============================] - 0s 183us/step - loss: 0.0728 - acc: 0.9720\n",
      "Epoch 96/100\n",
      "500/500 [==============================] - 0s 193us/step - loss: 0.0709 - acc: 0.9720\n",
      "Epoch 97/100\n",
      "500/500 [==============================] - 0s 187us/step - loss: 0.0743 - acc: 0.9740\n",
      "Epoch 98/100\n",
      "500/500 [==============================] - 0s 156us/step - loss: 0.0702 - acc: 0.9760\n",
      "Epoch 99/100\n",
      "500/500 [==============================] - 0s 197us/step - loss: 0.0749 - acc: 0.9720\n",
      "Epoch 100/100\n",
      "500/500 [==============================] - 0s 225us/step - loss: 0.0718 - acc: 0.9740\n"
     ]
    }
   ],
   "source": [
    "h=model.fit(x=X,y=y_cat,verbose=1,batch_size=50,epochs=100)"
   ]
  },
  {
   "cell_type": "code",
   "execution_count": 15,
   "metadata": {},
   "outputs": [],
   "source": [
    "def plot_decision_boundary(X,y,model):\n",
    "    x_span=np.linspace(min(X[:,0])-1,max(X[:,0])+1,50)\n",
    "    #print(x_span)\n",
    "    y_span=np.linspace(min(X[:,1])-1,max(X[:,1])+1,50)\n",
    "    xx, yy=np.meshgrid(x_span,y_span)\n",
    "#     print(xx)\n",
    "#     print(yy)\n",
    "    xx_,yy_=xx.ravel(),yy.ravel()\n",
    "#     print(xx_)\n",
    "    grid=np.c_[xx_,yy_]\n",
    "    pred_func=model.predict_classes(grid)\n",
    "    z=pred_func.reshape(xx.shape)\n",
    "    plt.contourf(xx,yy,z)"
   ]
  },
  {
   "cell_type": "code",
   "execution_count": 16,
   "metadata": {},
   "outputs": [
    {
     "name": "stdout",
     "output_type": "stream",
     "text": [
      "Prediction is: [3]\n"
     ]
    },
    {
     "data": {
      "image/png": "[encoded data removed]",
      "text/plain": [
       "<Figure size 432x288 with 1 Axes>"
      ]
     },
     "metadata": {},
     "output_type": "display_data"
    }
   ],
   "source": [
    "plot_decision_boundary(X,y_cat,model)\n",
    "plt.scatter(X[y==0,0],X[y==0,1])\n",
    "plt.scatter(X[y==1,0],X[y==1,1])\n",
    "plt.scatter(X[y==2,0],X[y==2,1])\n",
    "plt.scatter(X[y==3,0],X[y==3,1])\n",
    "plt.scatter(X[y==4,0],X[y==4,1])\n",
    "x=0.5\n",
    "y=0.5\n",
    "point=np.array([[x,y]])\n",
    "prediction=model.predict_classes(point)\n",
    "plt.plot([x],[y],marker=\"o\",markersize=10,color=\"red\")\n",
    "print(\"Prediction is:\", prediction)"
   ]
  },
  {
   "cell_type": "code",
   "execution_count": 17,
   "metadata": {},
   "outputs": [
    {
     "data": {
      "text/plain": [
       "Text(0.5,1,'accuracy')"
      ]
     },
     "execution_count": 17,
     "metadata": {},
     "output_type": "execute_result"
    },
    {
     "data": {
      "image/png": "[encoded data removed]",
      "text/plain": [
       "<Figure size 432x288 with 1 Axes>"
      ]
     },
     "metadata": {},
     "output_type": "display_data"
    }
   ],
   "source": [
    "plt.plot(h.history['acc'])\n",
    "#plt.plot(history.history['loss'])\n",
    "plt.xlabel('epoch')\n",
    "plt.legend(['acc'])\n",
    "\n",
    "plt.title('accuracy')"
   ]
  },
  {
   "cell_type": "code",
   "execution_count": null,
   "metadata": {},
   "outputs": [],
   "source": []
  }
 ],
 "metadata": {
  "kernelspec": {
   "display_name": "Python 3",
   "language": "python",
   "name": "python3"
  },
  "language_info": {
   "codemirror_mode": {
    "name": "ipython",
    "version": 3
   },
   "file_extension": ".py",
   "mimetype": "text/x-python",
   "name": "python",
   "nbconvert_exporter": "python",
   "pygments_lexer": "ipython3",
   "version": "3.5.5"
  }
 },
 "nbformat": 4,
 "nbformat_minor": 2
}
